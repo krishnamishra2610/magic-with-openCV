{
 "cells": [
  {
   "cell_type": "code",
   "execution_count": 21,
   "id": "3b2a3ed5",
   "metadata": {},
   "outputs": [],
   "source": [
    "import cv2\n",
    "import time\n",
    "import numpy as np\n",
    "cap = cv2.VideoCapture(0)"
   ]
  },
  {
   "cell_type": "code",
   "execution_count": 22,
   "id": "b924c736",
   "metadata": {},
   "outputs": [],
   "source": [
    "# Store a single frame as background \n",
    "_, background = cap.read()\n",
    "time.sleep(2)\n",
    "_, background = cap.read()"
   ]
  },
  {
   "cell_type": "code",
   "execution_count": 23,
   "id": "d70622cf",
   "metadata": {},
   "outputs": [],
   "source": [
    "#define all the kernels size  \n",
    "open_kernel = np.ones((5,5),np.uint8)\n",
    "close_kernel = np.ones((7,7),np.uint8)\n",
    "dilation_kernel = np.ones((10, 10), np.uint8)\n"
   ]
  },
  {
   "cell_type": "code",
   "execution_count": 24,
   "id": "cd7ce156",
   "metadata": {},
   "outputs": [],
   "source": [
    "# Function for remove noise from mask \n",
    "def filter_mask(mask):\n",
    "\n",
    "    close_mask = cv2.morphologyEx(mask, cv2.MORPH_CLOSE, close_kernel)\n",
    "\n",
    "    open_mask = cv2.morphologyEx(close_mask, cv2.MORPH_OPEN, open_kernel)\n",
    "\n",
    "    dilation = cv2.dilate(open_mask, dilation_kernel, iterations= 1)\n",
    "\n",
    "    return dilation"
   ]
  },
  {
   "cell_type": "code",
   "execution_count": 25,
   "id": "d3e70e3b",
   "metadata": {},
   "outputs": [],
   "source": [
    "while cap.isOpened():\n",
    "    ret, frame = cap.read()  # Capture every frame\n",
    "    # convert to hsv colorspace \n",
    "    hsv = cv2.cvtColor(frame, cv2.COLOR_BGR2HSV)\n",
    "\n",
    "    # lower bound and upper bound for Green color \n",
    "    lower_bound = np.array([50, 80, 50])     \n",
    "    upper_bound = np.array([90, 255, 255])\n",
    "#     Lower_bound = np.array([160, 100, 100])\n",
    "#     upper_red1 = np.array([180, 255, 255])\n",
    "    \n",
    "\n",
    "    # find the colors within the boundaries\n",
    "    mask = cv2.inRange(hsv, lower_bound, upper_bound)\n",
    "\n",
    "    # Filter mask\n",
    "    mask = filter_mask(mask)\n",
    "\n",
    "    # Apply the mask to take only those region from the saved background \n",
    "    # where our cloak is present in the current frame\n",
    "    cloak = cv2.bitwise_and(background, background, mask=mask)\n",
    "\n",
    "    # create inverse mask \n",
    "    inverse_mask = cv2.bitwise_not(mask)  \n",
    "\n",
    "    # Apply the inverse mask to take those region of the current frame where cloak is not present \n",
    "    current_background = cv2.bitwise_and(frame, frame, mask=inverse_mask)\n",
    "\n",
    "    # Combine cloak region and current_background region to get final frame \n",
    "    combined = cv2.add(cloak, current_background)\n",
    "\n",
    "    cv2.imshow(\"Final output\", combined)\n",
    "\n",
    "\n",
    "    if cv2.waitKey(1) == ord('q'):\n",
    "        break\n",
    "    \n",
    "cap.release()\n",
    "cv2.destroyAllWindows()"
   ]
  },
  {
   "cell_type": "code",
   "execution_count": null,
   "id": "4dba23b9",
   "metadata": {},
   "outputs": [],
   "source": []
  },
  {
   "cell_type": "code",
   "execution_count": null,
   "id": "bf0cf3ca",
   "metadata": {},
   "outputs": [],
   "source": []
  },
  {
   "cell_type": "code",
   "execution_count": null,
   "id": "95180361",
   "metadata": {},
   "outputs": [],
   "source": []
  }
 ],
 "metadata": {
  "kernelspec": {
   "display_name": "Python 3",
   "language": "python",
   "name": "python3"
  },
  "language_info": {
   "codemirror_mode": {
    "name": "ipython",
    "version": 3
   },
   "file_extension": ".py",
   "mimetype": "text/x-python",
   "name": "python",
   "nbconvert_exporter": "python",
   "pygments_lexer": "ipython3",
   "version": "3.8.8"
  }
 },
 "nbformat": 4,
 "nbformat_minor": 5
}
